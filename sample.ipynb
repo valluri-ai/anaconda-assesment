{
  "cells": [
    {
      "cell_type": "code",
      "execution_count": null,
      "metadata": {
        "vscode": {
          "languageId": "plaintext"
        }
      },
      "outputs": [],
      "source": [
        "{\n",
        "  \"cells\": [\n",
        "    {\n",
        "      \"cell_type\": \"markdown\",\n",
        "      \"metadata\": {},\n",
        "      \"source\": [\"# Sample Notebook\"]\n",
        "    },\n",
        "    {\n",
        "      \"cell_type\": \"code\",\n",
        "      \"metadata\": {},\n",
        "      \"execution_count\": 1,\n",
        "      \"outputs\": [\n",
        "        {\n",
        "          \"output_type\": \"stream\",\n",
        "          \"name\": \"stdout\",\n",
        "          \"text\": \"Hello world\\n\"\n",
        "        }\n",
        "      ],\n",
        "      \"source\": [\"print('Hello world')\\n\"]\n",
        "    }\n",
        "  ],\n",
        "  \"metadata\": {\n",
        "    \"kernelspec\": {\n",
        "      \"display_name\": \"Python 3\",\n",
        "      \"language\": \"python\",\n",
        "      \"name\": \"python3\"\n",
        "    },\n",
        "    \"language_info\": {\n",
        "      \"name\": \"python\",\n",
        "      \"version\": \"3.11\"\n",
        "    }\n",
        "  },\n",
        "  \"nbformat\": 4,\n",
        "  \"nbformat_minor\": 5\n",
        "}\n"
      ]
    }
  ],
  "metadata": {
    "language_info": {
      "name": "python"
    }
  },
  "nbformat": 4,
  "nbformat_minor": 2
}
